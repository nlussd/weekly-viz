{
 "cells": [
  {
   "cell_type": "markdown",
   "metadata": {},
   "source": [
    "# Get google places from keywords\n",
    "\n",
    "Nurvirta Monarizqa"
   ]
  },
  {
   "cell_type": "code",
   "execution_count": 111,
   "metadata": {
    "collapsed": true
   },
   "outputs": [],
   "source": [
    "import json\n",
    "import urllib2\n",
    "import pandas as pd"
   ]
  },
  {
   "cell_type": "code",
   "execution_count": 141,
   "metadata": {
    "collapsed": true
   },
   "outputs": [],
   "source": [
    "base = 'https://maps.googleapis.com/maps/api/place/radarsearch/json?'\n",
    "\n",
    "# set the center point of your search here\n",
    "location = '40.71297,-74.00367'\n",
    "\n",
    "# set the radius in meters\n",
    "radius = 20000\n",
    "\n",
    "# replace this with your key\n",
    "# get your own key from here:\n",
    "# https://developers.google.com/places/web-service/search#TextSearchRequests\n",
    "key = 'xxxxxxxxxxxxxxx'\n"
   ]
  },
  {
   "cell_type": "code",
   "execution_count": 142,
   "metadata": {},
   "outputs": [],
   "source": [
    "# set the keywords here\n",
    "query = 'kombucha new york'\n",
    "url = base +'keyword='+query.replace(\" \",\"+\")+'&location='+location+'&radius='+str(radius)+'&key='+key"
   ]
  },
  {
   "cell_type": "code",
   "execution_count": 124,
   "metadata": {},
   "outputs": [],
   "source": [
    "# get the json response from the url\n",
    "response = urllib2.urlopen(url)\n",
    "data = json.load(response)"
   ]
  },
  {
   "cell_type": "code",
   "execution_count": 126,
   "metadata": {},
   "outputs": [],
   "source": [
    "# gather all the results\n",
    "# it only returns google place_id, lat and long\n",
    "# the output of this process will be a dataframe contains those information\n",
    "d = {'place_id':[],\n",
    "      'latitude':[],\n",
    "      'longitude':[]  \n",
    "}\n",
    "for i in range(len(data['results'])):\n",
    "    d[\"place_id\"].append(data[\"results\"][i][\"place_id\"])\n",
    "    d[\"latitude\"].append(data[\"results\"][i][\"geometry\"][\"location\"][\"lat\"])\n",
    "    d[\"longitude\"].append(data[\"results\"][i][\"geometry\"][\"location\"][\"lng\"])\n",
    "df = pd.DataFrame(d)"
   ]
  },
  {
   "cell_type": "code",
   "execution_count": 137,
   "metadata": {
    "collapsed": true
   },
   "outputs": [],
   "source": [
    "# since it only returns google_id\n",
    "# we have to get the place details, such as the name\n",
    "base2='https://maps.googleapis.com/maps/api/place/details/json?'\n",
    "place_names = []\n",
    "for place_id in df.place_id:\n",
    "    url2=base2+\"place_id=\"+place_id+\"&key=\"+key\n",
    "    response= urllib2.urlopen(url2)\n",
    "    data2 = json.load(response)\n",
    "    place_names.append(data2[\"result\"][\"name\"])"
   ]
  },
  {
   "cell_type": "code",
   "execution_count": 139,
   "metadata": {},
   "outputs": [],
   "source": [
    "# put the place names into the dataframe\n",
    "df[\"place_names\"] = place_names"
   ]
  },
  {
   "cell_type": "code",
   "execution_count": 140,
   "metadata": {},
   "outputs": [
    {
     "data": {
      "text/html": [
       "<div>\n",
       "<style>\n",
       "    .dataframe thead tr:only-child th {\n",
       "        text-align: right;\n",
       "    }\n",
       "\n",
       "    .dataframe thead th {\n",
       "        text-align: left;\n",
       "    }\n",
       "\n",
       "    .dataframe tbody tr th {\n",
       "        vertical-align: top;\n",
       "    }\n",
       "</style>\n",
       "<table border=\"1\" class=\"dataframe\">\n",
       "  <thead>\n",
       "    <tr style=\"text-align: right;\">\n",
       "      <th></th>\n",
       "      <th>latitude</th>\n",
       "      <th>longitude</th>\n",
       "      <th>place_id</th>\n",
       "      <th>keyword</th>\n",
       "      <th>place_names</th>\n",
       "    </tr>\n",
       "  </thead>\n",
       "  <tbody>\n",
       "    <tr>\n",
       "      <th>0</th>\n",
       "      <td>40.768414</td>\n",
       "      <td>-73.983196</td>\n",
       "      <td>ChIJJR1rJfZYwokRjkNMFTiDSTw</td>\n",
       "      <td>kombucha new york</td>\n",
       "      <td>On Tap</td>\n",
       "    </tr>\n",
       "    <tr>\n",
       "      <th>1</th>\n",
       "      <td>40.734296</td>\n",
       "      <td>-73.991219</td>\n",
       "      <td>ChIJLzqy5JhZwokRK0JvZdNXKJ4</td>\n",
       "      <td>kombucha new york</td>\n",
       "      <td>Jivamuktea Cafe</td>\n",
       "    </tr>\n",
       "    <tr>\n",
       "      <th>2</th>\n",
       "      <td>40.729210</td>\n",
       "      <td>-74.001017</td>\n",
       "      <td>ChIJX37nIZJZwokRk6omkfkRr6Q</td>\n",
       "      <td>kombucha new york</td>\n",
       "      <td>by CHLOE.</td>\n",
       "    </tr>\n",
       "    <tr>\n",
       "      <th>3</th>\n",
       "      <td>40.730201</td>\n",
       "      <td>-74.003686</td>\n",
       "      <td>ChIJ6QeO95JZwokRZXBnIGL5rEg</td>\n",
       "      <td>kombucha new york</td>\n",
       "      <td>Urban Vegan Kitchen</td>\n",
       "    </tr>\n",
       "    <tr>\n",
       "      <th>4</th>\n",
       "      <td>40.741860</td>\n",
       "      <td>-73.992992</td>\n",
       "      <td>ChIJQcWLnqRZwokRQio85a-yTXo</td>\n",
       "      <td>kombucha new york</td>\n",
       "      <td>by CHLOE</td>\n",
       "    </tr>\n",
       "    <tr>\n",
       "      <th>5</th>\n",
       "      <td>40.737475</td>\n",
       "      <td>-73.955002</td>\n",
       "      <td>ChIJKc1AFTxZwokRpk15THKc818</td>\n",
       "      <td>kombucha new york</td>\n",
       "      <td>Mombucha</td>\n",
       "    </tr>\n",
       "    <tr>\n",
       "      <th>6</th>\n",
       "      <td>40.737588</td>\n",
       "      <td>-73.990976</td>\n",
       "      <td>ChIJVy3H2qJZwokR00lCM_FmC6o</td>\n",
       "      <td>kombucha new york</td>\n",
       "      <td>Dig Inn</td>\n",
       "    </tr>\n",
       "    <tr>\n",
       "      <th>7</th>\n",
       "      <td>40.712474</td>\n",
       "      <td>-74.015697</td>\n",
       "      <td>ChIJFwq6ABtawokRA3S5arbt9ew</td>\n",
       "      <td>kombucha new york</td>\n",
       "      <td>Northern Tiger</td>\n",
       "    </tr>\n",
       "    <tr>\n",
       "      <th>8</th>\n",
       "      <td>40.767036</td>\n",
       "      <td>-73.982973</td>\n",
       "      <td>ChIJa_WeMfZYwokRJRpLvc5J4ww</td>\n",
       "      <td>kombucha new york</td>\n",
       "      <td>Ellary's Greens</td>\n",
       "    </tr>\n",
       "    <tr>\n",
       "      <th>9</th>\n",
       "      <td>40.727188</td>\n",
       "      <td>-73.984927</td>\n",
       "      <td>ChIJp0SVFp1ZwokRNuTXqvffxbg</td>\n",
       "      <td>kombucha new york</td>\n",
       "      <td>Physical Graffitea</td>\n",
       "    </tr>\n",
       "    <tr>\n",
       "      <th>10</th>\n",
       "      <td>40.725729</td>\n",
       "      <td>-74.009347</td>\n",
       "      <td>ChIJn9skCvNZwokRk7K5S6cBxe0</td>\n",
       "      <td>kombucha new york</td>\n",
       "      <td>Houseman</td>\n",
       "    </tr>\n",
       "    <tr>\n",
       "      <th>11</th>\n",
       "      <td>40.740113</td>\n",
       "      <td>-73.946544</td>\n",
       "      <td>ChIJIW-v4S9ZwokR-FdOu6Hv5Ck</td>\n",
       "      <td>kombucha new york</td>\n",
       "      <td>BAO Food and Drink</td>\n",
       "    </tr>\n",
       "  </tbody>\n",
       "</table>\n",
       "</div>"
      ],
      "text/plain": [
       "     latitude  longitude                     place_id            keyword  \\\n",
       "0   40.768414 -73.983196  ChIJJR1rJfZYwokRjkNMFTiDSTw  kombucha new york   \n",
       "1   40.734296 -73.991219  ChIJLzqy5JhZwokRK0JvZdNXKJ4  kombucha new york   \n",
       "2   40.729210 -74.001017  ChIJX37nIZJZwokRk6omkfkRr6Q  kombucha new york   \n",
       "3   40.730201 -74.003686  ChIJ6QeO95JZwokRZXBnIGL5rEg  kombucha new york   \n",
       "4   40.741860 -73.992992  ChIJQcWLnqRZwokRQio85a-yTXo  kombucha new york   \n",
       "5   40.737475 -73.955002  ChIJKc1AFTxZwokRpk15THKc818  kombucha new york   \n",
       "6   40.737588 -73.990976  ChIJVy3H2qJZwokR00lCM_FmC6o  kombucha new york   \n",
       "7   40.712474 -74.015697  ChIJFwq6ABtawokRA3S5arbt9ew  kombucha new york   \n",
       "8   40.767036 -73.982973  ChIJa_WeMfZYwokRJRpLvc5J4ww  kombucha new york   \n",
       "9   40.727188 -73.984927  ChIJp0SVFp1ZwokRNuTXqvffxbg  kombucha new york   \n",
       "10  40.725729 -74.009347  ChIJn9skCvNZwokRk7K5S6cBxe0  kombucha new york   \n",
       "11  40.740113 -73.946544  ChIJIW-v4S9ZwokR-FdOu6Hv5Ck  kombucha new york   \n",
       "\n",
       "            place_names  \n",
       "0                On Tap  \n",
       "1       Jivamuktea Cafe  \n",
       "2             by CHLOE.  \n",
       "3   Urban Vegan Kitchen  \n",
       "4              by CHLOE  \n",
       "5              Mombucha  \n",
       "6               Dig Inn  \n",
       "7        Northern Tiger  \n",
       "8       Ellary's Greens  \n",
       "9    Physical Graffitea  \n",
       "10             Houseman  \n",
       "11   BAO Food and Drink  "
      ]
     },
     "execution_count": 140,
     "metadata": {},
     "output_type": "execute_result"
    }
   ],
   "source": [
    "# show the dataframe\n",
    "df"
   ]
  },
  {
   "cell_type": "code",
   "execution_count": null,
   "metadata": {
    "collapsed": true
   },
   "outputs": [],
   "source": [
    "# export the dataframe to csv:\n",
    "df.to_csv(\"kombucha_new_york.csv\")"
   ]
  }
 ],
 "metadata": {
  "kernelspec": {
   "display_name": "Python 2",
   "language": "python",
   "name": "python2"
  },
  "language_info": {
   "codemirror_mode": {
    "name": "ipython",
    "version": 2
   },
   "file_extension": ".py",
   "mimetype": "text/x-python",
   "name": "python",
   "nbconvert_exporter": "python",
   "pygments_lexer": "ipython2",
   "version": "2.7.8"
  }
 },
 "nbformat": 4,
 "nbformat_minor": 2
}
